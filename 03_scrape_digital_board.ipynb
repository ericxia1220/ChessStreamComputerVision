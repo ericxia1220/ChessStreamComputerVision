{
 "cells": [
  {
   "cell_type": "code",
   "execution_count": 136,
   "id": "46efbc57-3c32-44b9-9086-bb81d80ea48e",
   "metadata": {
    "tags": []
   },
   "outputs": [],
   "source": [
    "import zstandard as zstd\n",
    "import chess.pgn\n",
    "\n",
    "import pandas as pd\n",
    "\n",
    "import random\n",
    "\n",
    "from selenium import webdriver\n",
    "from selenium.webdriver.common.by import By\n",
    "from selenium.webdriver.support.ui import WebDriverWait\n",
    "from selenium.webdriver.support import expected_conditions as EC\n",
    "from selenium.webdriver.chrome.options import Options\n",
    "\n",
    "pd.set_option('display.max_colwidth', None)"
   ]
  },
  {
   "cell_type": "markdown",
   "id": "80b4a924-ea7d-411d-8755-0683a8cebd86",
   "metadata": {},
   "source": [
    "## Decompress .zst files"
   ]
  },
  {
   "cell_type": "code",
   "execution_count": 2,
   "id": "446b28be-7606-472d-a633-2d50ed685079",
   "metadata": {
    "tags": []
   },
   "outputs": [],
   "source": [
    "# Decompress input file and write to output file\n",
    "def decompress_zst(input_file, output_file):\n",
    "    with open(input_file, 'rb') as compressed:\n",
    "        decomp = zstd.ZstdDecompressor()\n",
    "        with open(output_file, 'wb') as destination:\n",
    "            decomp.copy_stream(compressed, destination)"
   ]
  },
  {
   "cell_type": "code",
   "execution_count": 4,
   "id": "05ebc523-ff53-419f-a09a-dae732725bb9",
   "metadata": {
    "tags": []
   },
   "outputs": [],
   "source": [
    "input_zst_file = '../ChessStreamComputerVision/lichess_zst_files/lichess_db_standard_rated_2013-01.pgn.zst'\n",
    "output_pgn_file = '../ChessStreamComputerVision/lichess_pgn_files/lichess_db_standard_rated_2013-01.pgn'\n",
    "decompress_zst(input_zst_file, output_pgn_file)"
   ]
  },
  {
   "cell_type": "markdown",
   "id": "171b8be0-c875-4adb-8d27-c56239815f8a",
   "metadata": {},
   "source": [
    "## Parse .pgn files"
   ]
  },
  {
   "cell_type": "code",
   "execution_count": 6,
   "id": "6be3cea5-58b6-4c30-b9bc-ed2aa6401eb0",
   "metadata": {
    "tags": []
   },
   "outputs": [],
   "source": [
    "# Extracts all fens from a single pgn file\n",
    "def extract_fens_from_pgn(pgn_file):\n",
    "    fens = []\n",
    "    with open(pgn_file) as pgn:\n",
    "        while True:\n",
    "            game = chess.pgn.read_game(pgn)\n",
    "            if game is None:\n",
    "                break\n",
    "            # Go through the moves and collect FENs\n",
    "            board = game.board()\n",
    "            for move in game.mainline_moves():\n",
    "                board.push(move)\n",
    "                fens.append(board.fen())\n",
    "    return fens"
   ]
  },
  {
   "cell_type": "code",
   "execution_count": 11,
   "id": "401122cd-40c1-4a9d-bb6b-3fd5a60d2466",
   "metadata": {
    "tags": []
   },
   "outputs": [],
   "source": [
    "test_pgn_file = '../ChessStreamComputerVision/lichess_pgn_files/test.pgn'\n",
    "fens = extract_fens_from_pgn(test_pgn_file)"
   ]
  },
  {
   "cell_type": "markdown",
   "id": "18ba891c-dee4-40e1-9e7b-5f5b09fa795e",
   "metadata": {
    "tags": []
   },
   "source": [
    "## Process lichess puzzles"
   ]
  },
  {
   "cell_type": "code",
   "execution_count": 16,
   "id": "97383bde-9da4-442f-9a31-ddb454914c34",
   "metadata": {
    "tags": []
   },
   "outputs": [],
   "source": [
    "# Decompress the puzzle file\n",
    "puzzle_zst_file = '../ChessStreamComputerVision/lichess_zst_files/lichess_db_puzzle.csv.zst'\n",
    "puzzle_csv_file = '../ChessStreamComputerVision/lichess_db_puzzle.csv'\n",
    "decompress_zst(puzzle_zst_file, puzzle_csv_file)"
   ]
  },
  {
   "cell_type": "code",
   "execution_count": 17,
   "id": "dd6d466b-1c64-491d-8376-75ec7c81485d",
   "metadata": {
    "tags": []
   },
   "outputs": [],
   "source": [
    "# Load puzzle csv using pandas\n",
    "puzzle_df = pd.read_csv(puzzle_csv_file)"
   ]
  },
  {
   "cell_type": "code",
   "execution_count": 62,
   "id": "5c60cff4-a09a-41d4-8fbe-f673a944cf4a",
   "metadata": {
    "tags": []
   },
   "outputs": [],
   "source": [
    "# Get puzzle fen list \n",
    "fen_list = list(puzzle_df.FEN)"
   ]
  },
  {
   "cell_type": "code",
   "execution_count": 127,
   "id": "1a02efe4-5a5a-44b2-9e3c-f6137bb3afcf",
   "metadata": {
    "tags": []
   },
   "outputs": [
    {
     "name": "stdout",
     "output_type": "stream",
     "text": [
      "lichess: 8000\n",
      "chess.com: 8000\n",
      "rest: 4000\n"
     ]
    }
   ],
   "source": [
    "# Randomly sample 20000 fens\n",
    "random.seed(42)\n",
    "sampled_fen_list = random.sample(fen_list, 20000)\n",
    "\n",
    "# Split the fen into lichess/chess.com/365chess/chess42\n",
    "# lichess - 40% chess.com - 40% rest - 20%\n",
    "total = len(sampled_fen_list)\n",
    "num_lichess = int(total * 0.4)\n",
    "num_chess_com = int(total * 0.4)\n",
    "num_rest = total - num_lichess - num_chess_com\n",
    "\n",
    "# Split the list\n",
    "lichess_games = sampled_fen_list[:num_lichess]\n",
    "chess_com_games = sampled_fen_list[num_lichess:num_lichess + num_chess_com]\n",
    "rest_games = sampled_fen_list[num_lichess + num_chess_com:]\n",
    "\n",
    "# Check the lengths\n",
    "print(f\"lichess: {len(lichess_games)}\")\n",
    "print(f\"chess.com: {len(chess_com_games)}\")\n",
    "print(f\"rest: {len(rest_games)}\")"
   ]
  },
  {
   "cell_type": "markdown",
   "id": "c186c29c-5bd7-443e-a64f-553702096c22",
   "metadata": {},
   "source": [
    "## Scrape lichess"
   ]
  },
  {
   "cell_type": "markdown",
   "id": "f9eceaf5-739b-45f2-9d9d-4e8e3d237a37",
   "metadata": {},
   "source": [
    "### 2d board"
   ]
  },
  {
   "cell_type": "code",
   "execution_count": 129,
   "id": "91791406-847b-42b4-b869-19a9b95b9f3f",
   "metadata": {
    "tags": []
   },
   "outputs": [],
   "source": [
    "# Create dataframe to store meta data \n",
    "metadata_df = pd.DataFrame()"
   ]
  },
  {
   "cell_type": "code",
   "execution_count": 130,
   "id": "7f188348-e813-4ccf-af0b-958f8416b3c4",
   "metadata": {
    "tags": []
   },
   "outputs": [],
   "source": [
    "# 2d board themes\n",
    "blue1 = '//*[@id=\"dasher_app\"]/div/div/button[1]'\n",
    "blue2 = '//*[@id=\"dasher_app\"]/div/div/button[2]'\n",
    "blue3 = '//*[@id=\"dasher_app\"]/div/div/button[3]'\n",
    "blue_marble = '//*[@id=\"dasher_app\"]/div/div/button[4]'\n",
    "canvas = '//*[@id=\"dasher_app\"]/div/div/button[5]'\n",
    "wood = '//*[@id=\"dasher_app\"]/div/div/button[6]'\n",
    "wood2 = '//*[@id=\"dasher_app\"]/div/div/button[7]'\n",
    "wood3 = '//*[@id=\"dasher_app\"]/div/div/button[8]'\n",
    "wood4 = '//*[@id=\"dasher_app\"]/div/div/button[9]'\n",
    "maple = '//*[@id=\"dasher_app\"]/div/div/button[10]'\n",
    "maple2 = '//*[@id=\"dasher_app\"]/div/div/button[11]'\n",
    "brown = '//*[@id=\"dasher_app\"]/div/div/button[12]'\n",
    "leather = '//*[@id=\"dasher_app\"]/div/div/button[13]'\n",
    "green = '//*[@id=\"dasher_app\"]/div/div/button[14]'\n",
    "marble = '//*[@id=\"dasher_app\"]/div/div/button[15]'\n",
    "green_plastic = '//*[@id=\"dasher_app\"]/div/div/button[16]'\n",
    "grey = '//*[@id=\"dasher_app\"]/div/div/button[17]'\n",
    "metal = '//*[@id=\"dasher_app\"]/div/div/button[18]'\n",
    "olive = '//*[@id=\"dasher_app\"]/div/div/button[19]'\n",
    "newspaper = '//*[@id=\"dasher_app\"]/div/div/button[20]'\n",
    "purple = '//*[@id=\"dasher_app\"]/div/div/button[21]'\n",
    "purple_diag = '//*[@id=\"dasher_app\"]/div/div/button[22]'\n",
    "pink = '//*[@id=\"dasher_app\"]/div/div/button[23]'\n",
    "ic = '//*[@id=\"dasher_app\"]/div/div/button[24]'\n",
    "horsey = '//*[@id=\"dasher_app\"]/div/div/button[25]'\n",
    "\n",
    "# 2d board theme dictionary\n",
    "board_theme_2d_dict = {'blue1':blue1, 'blue2':blue2, 'blue3':blue3, 'blue_marble':blue_marble, 'canvas':canvas, 'wood':wood, \n",
    "                       'wood2':wood2, 'wood3':wood3, 'wood4':wood4, 'maple':maple, 'maple2':maple2, 'brown':brown, 'leather':leather, \n",
    "                       'green':green, 'marble':marble, 'green_plastic':green_plastic, 'grey':grey, 'metal':metal, 'olive':olive, \n",
    "                       'newspaper':newspaper, 'purple':purple, 'purple_diag':purple_diag, 'pink':pink, 'ic':ic, 'horsey':horsey}\n",
    "\n",
    "# 2d piece set \n",
    "cburnett = '//*[@id=\"dasher_app\"]/div/div/button[1]'\n",
    "merida = '//*[@id=\"dasher_app\"]/div/div/button[2]'\n",
    "alpha = '//*[@id=\"dasher_app\"]/div/div/button[3]'\n",
    "pirouetti = '//*[@id=\"dasher_app\"]/div/div/button[4]'\n",
    "chessnut = '//*[@id=\"dasher_app\"]/div/div/button[5]'\n",
    "chess7 = '//*[@id=\"dasher_app\"]/div/div/button[6]'\n",
    "reillycraig = '//*[@id=\"dasher_app\"]/div/div/button[7]'\n",
    "companion = '//*[@id=\"dasher_app\"]/div/div/button[8]'\n",
    "riohacha = '//*[@id=\"dasher_app\"]/div/div/button[9]'\n",
    "kosal = '//*[@id=\"dasher_app\"]/div/div/button[10]'\n",
    "leipzig = '//*[@id=\"dasher_app\"]/div/div/button[11]'\n",
    "fantasy = '//*[@id=\"dasher_app\"]/div/div/button[12]'\n",
    "spatial = '//*[@id=\"dasher_app\"]/div/div/button[13]'\n",
    "celtic = '//*[@id=\"dasher_app\"]/div/div/button[14]'\n",
    "california = '//*[@id=\"dasher_app\"]/div/div/button[15]'\n",
    "caliente = '//*[@id=\"dasher_app\"]/div/div/button[16]'\n",
    "pixel = '//*[@id=\"dasher_app\"]/div/div/button[17]'\n",
    "maestro = '//*[@id=\"dasher_app\"]/div/div/button[18]'\n",
    "fresca = '//*[@id=\"dasher_app\"]/div/div/button[19]'\n",
    "cardinal = '//*[@id=\"dasher_app\"]/div/div/button[20]'\n",
    "gioco = '//*[@id=\"dasher_app\"]/div/div/button[21]'\n",
    "tatiana = '//*[@id=\"dasher_app\"]/div/div/button[22]'\n",
    "staunty = '//*[@id=\"dasher_app\"]/div/div/button[23]'\n",
    "governor = '//*[@id=\"dasher_app\"]/div/div/button[24]'\n",
    "dubrovny = '//*[@id=\"dasher_app\"]/div/div/button[25]'\n",
    "icpieces = '//*[@id=\"dasher_app\"]/div/div/button[26]'\n",
    "mpchess = '//*[@id=\"dasher_app\"]/div/div/button[27]'\n",
    "\n",
    "# 2d piece set dictionary  \n",
    "piece_set_2d_dict = {'cburnett':cburnett, 'merida':merida, 'alpha':alpha, 'pirouetti':pirouetti, 'chessnut':chessnut, 'chess7':chess7, \n",
    "                    'reillycraig':reillycraig, 'companion':companion, 'riohacha':riohacha, 'kosal':kosal, 'leipzig':leipzig, 'fantasy':fantasy, \n",
    "                    'spatial':spatial, 'celtic':celtic, 'california':california, 'caliente':caliente, 'pixel':pixel, 'maestro':maestro, \n",
    "                    'fresca':fresca, 'cardinal':cardinal, 'gioco':gioco, 'tatiana':tatiana, 'staunty':staunty, 'governor':governor, \n",
    "                    'dubrovny':dubrovny, 'icpieces':icpieces, 'mpchess':mpchess}"
   ]
  },
  {
   "cell_type": "code",
   "execution_count": 134,
   "id": "4905600d-b139-4e5e-92eb-9cf102c3d4c2",
   "metadata": {
    "tags": []
   },
   "outputs": [],
   "source": [
    "def capture_2d_chessboard(fen, board_id, metadata_df):\n",
    "    \n",
    "    # List of user agents\n",
    "    user_agents = [\n",
    "        'Mozilla/5.0 (Windows NT 10.0; Win64; x64) AppleWebKit/537.36 (KHTML, like Gecko) Chrome/91.0.4472.124 Safari/537.36',\n",
    "        'Mozilla/5.0 (Windows NT 10.0; ) AppleWebKit/537.36 (KHTML, like Gecko) Chrome/83.0.4103.116 Safari/537.3',\n",
    "        'Mozilla/5.0 (Windows NT 10.0; Win64; x64) AppleWebKit/537.36 (KHTML, like Gecko) Chrome/89.0.4389.90 Safari/537.36',\n",
    "        'Mozilla/5.0 (X11; Linux x86_64) AppleWebKit/537.36 (KHTML, like Gecko) Chrome/51.0.2704.103 Safari/537.36',\n",
    "    ]\n",
    "    chrome_options = Options()\n",
    "    chrome_options.add_argument(f\"user-agent={random.choice(user_agents)}\")\n",
    "    \n",
    "    # Create lichess analysis url from fen \n",
    "    url = f'https://lichess.org/analysis/standard/{fen}'\n",
    "    \n",
    "    # Create output path \n",
    "    output_path = f'../ChessStreamComputerVision/digital_board_images/digital_board_{board_id}.png'\n",
    "    \n",
    "    # Start driver\n",
    "    driver = webdriver.Chrome()\n",
    "    driver.get(url)\n",
    "\n",
    "    # Use explicit waits to ensure the chessboard is loaded before accessing it\n",
    "    wait = WebDriverWait(driver, 10)\n",
    "    \n",
    "    # Click on preferences\n",
    "    preferences_button = wait.until(EC.element_to_be_clickable((By.XPATH, '//*[@id=\"top\"]/div[2]/div[3]/button')))\n",
    "    preferences_button.click()\n",
    "    \n",
    "    # Click on board theme\n",
    "    board_theme_button = wait.until(EC.element_to_be_clickable((By.XPATH, '//*[@id=\"dasher_app\"]/div/div/button[5]')))\n",
    "    board_theme_button.click()\n",
    "    \n",
    "    # Select board theme \n",
    "    board_theme_key = random.choice(list(board_theme_2d_dict.keys()))\n",
    "    board_theme = board_theme_2d_dict[board_theme_key]\n",
    "    selected_theme_button = wait.until(EC.element_to_be_clickable((By.XPATH, board_theme)))\n",
    "    selected_theme_button.click()\n",
    "    \n",
    "    # Go back to preference from board theme selection\n",
    "    back_board_theme_button = wait.until(EC.element_to_be_clickable((By.XPATH, '//*[@id=\"dasher_app\"]/div/button')))\n",
    "    back_board_theme_button.click()\n",
    "    \n",
    "    # Click on piece set \n",
    "    piece_set_button = wait.until(EC.element_to_be_clickable((By.XPATH, '//*[@id=\"dasher_app\"]/div/div/button[6]')))\n",
    "    piece_set_button.click()\n",
    "    \n",
    "    # Select piece set  \n",
    "    piece_set_key = random.choice(list(piece_set_2d_dict.keys()))\n",
    "    piece_set = piece_set_2d_dict[piece_set_key]\n",
    "    selected_piece_button = wait.until(EC.element_to_be_clickable((By.XPATH, piece_set)))\n",
    "    selected_piece_button.click()\n",
    "    \n",
    "    # Take a screenshot of just the chessboard\n",
    "    chessboard = wait.until(EC.presence_of_element_located((By.XPATH, '//cg-board')))\n",
    "    chessboard.screenshot(output_path)\n",
    "    \n",
    "    # New metadata\n",
    "    new_df = pd.DataFrame({\n",
    "    'board_id': [board_id],\n",
    "    'fen': [fen], \n",
    "    'path': [output_path], \n",
    "    'board_theme': [board_theme_key],\n",
    "    'piece_set': [piece_set_key],\n",
    "    'is_3d': [False]\n",
    "    })\n",
    "    metadata_df = pd.concat([metadata_df, new_df], ignore_index=True)\n",
    "\n",
    "    # Close the driver\n",
    "    driver.quit()\n",
    "    \n",
    "    return metadata_df\n",
    "\n",
    "### scale images to 256x256!"
   ]
  },
  {
   "cell_type": "code",
   "execution_count": 137,
   "id": "00d1c804-1303-440b-95ce-401429304fc7",
   "metadata": {
    "collapsed": true,
    "jupyter": {
     "outputs_hidden": true
    },
    "tags": []
   },
   "outputs": [
    {
     "ename": "TimeoutException",
     "evalue": "Message: \nStacktrace:\n0   chromedriver                        0x00000001011ee65c chromedriver + 4318812\n1   chromedriver                        0x00000001011e6d00 chromedriver + 4287744\n2   chromedriver                        0x0000000100e187ec chromedriver + 296940\n3   chromedriver                        0x0000000100e56048 chromedriver + 548936\n4   chromedriver                        0x0000000100e8ed28 chromedriver + 781608\n5   chromedriver                        0x0000000100e4a178 chromedriver + 500088\n6   chromedriver                        0x0000000100e4afc0 chromedriver + 503744\n7   chromedriver                        0x00000001011aec40 chromedriver + 4058176\n8   chromedriver                        0x00000001011b3160 chromedriver + 4075872\n9   chromedriver                        0x0000000101176e68 chromedriver + 3829352\n10  chromedriver                        0x00000001011b3c4c chromedriver + 4078668\n11  chromedriver                        0x000000010118bf08 chromedriver + 3915528\n12  chromedriver                        0x00000001011d0140 chromedriver + 4194624\n13  chromedriver                        0x00000001011d02c4 chromedriver + 4195012\n14  chromedriver                        0x00000001011e04d0 chromedriver + 4261072\n15  libsystem_pthread.dylib             0x0000000188803fa8 _pthread_start + 148\n16  libsystem_pthread.dylib             0x00000001887feda0 thread_start + 8\n",
     "output_type": "error",
     "traceback": [
      "\u001b[0;31m---------------------------------------------------------------------------\u001b[0m",
      "\u001b[0;31mTimeoutException\u001b[0m                          Traceback (most recent call last)",
      "Cell \u001b[0;32mIn[137], line 4\u001b[0m\n\u001b[1;32m      2\u001b[0m \u001b[38;5;28;01mfor\u001b[39;00m board_id \u001b[38;5;129;01min\u001b[39;00m \u001b[38;5;28mrange\u001b[39m(\u001b[38;5;28mlen\u001b[39m(lichess_games)): \n\u001b[1;32m      3\u001b[0m     fen \u001b[38;5;241m=\u001b[39m lichess_games[board_id]\n\u001b[0;32m----> 4\u001b[0m     metadata_df \u001b[38;5;241m=\u001b[39m capture_2d_chessboard(fen, board_id, metadata_df)\n",
      "Cell \u001b[0;32mIn[134], line 27\u001b[0m, in \u001b[0;36mcapture_2d_chessboard\u001b[0;34m(fen, board_id, metadata_df)\u001b[0m\n\u001b[1;32m     24\u001b[0m wait \u001b[38;5;241m=\u001b[39m WebDriverWait(driver, \u001b[38;5;241m10\u001b[39m)\n\u001b[1;32m     26\u001b[0m \u001b[38;5;66;03m# Click on preferences\u001b[39;00m\n\u001b[0;32m---> 27\u001b[0m preferences_button \u001b[38;5;241m=\u001b[39m wait\u001b[38;5;241m.\u001b[39muntil(EC\u001b[38;5;241m.\u001b[39melement_to_be_clickable((By\u001b[38;5;241m.\u001b[39mXPATH, \u001b[38;5;124m'\u001b[39m\u001b[38;5;124m//*[@id=\u001b[39m\u001b[38;5;124m\"\u001b[39m\u001b[38;5;124mtop\u001b[39m\u001b[38;5;124m\"\u001b[39m\u001b[38;5;124m]/div[2]/div[3]/button\u001b[39m\u001b[38;5;124m'\u001b[39m)))\n\u001b[1;32m     28\u001b[0m preferences_button\u001b[38;5;241m.\u001b[39mclick()\n\u001b[1;32m     30\u001b[0m \u001b[38;5;66;03m# Click on board theme\u001b[39;00m\n",
      "File \u001b[0;32m~/anaconda3/envs/chess_project/lib/python3.11/site-packages/selenium/webdriver/support/wait.py:95\u001b[0m, in \u001b[0;36mWebDriverWait.until\u001b[0;34m(self, method, message)\u001b[0m\n\u001b[1;32m     93\u001b[0m     \u001b[38;5;28;01mif\u001b[39;00m time\u001b[38;5;241m.\u001b[39mmonotonic() \u001b[38;5;241m>\u001b[39m end_time:\n\u001b[1;32m     94\u001b[0m         \u001b[38;5;28;01mbreak\u001b[39;00m\n\u001b[0;32m---> 95\u001b[0m \u001b[38;5;28;01mraise\u001b[39;00m TimeoutException(message, screen, stacktrace)\n",
      "\u001b[0;31mTimeoutException\u001b[0m: Message: \nStacktrace:\n0   chromedriver                        0x00000001011ee65c chromedriver + 4318812\n1   chromedriver                        0x00000001011e6d00 chromedriver + 4287744\n2   chromedriver                        0x0000000100e187ec chromedriver + 296940\n3   chromedriver                        0x0000000100e56048 chromedriver + 548936\n4   chromedriver                        0x0000000100e8ed28 chromedriver + 781608\n5   chromedriver                        0x0000000100e4a178 chromedriver + 500088\n6   chromedriver                        0x0000000100e4afc0 chromedriver + 503744\n7   chromedriver                        0x00000001011aec40 chromedriver + 4058176\n8   chromedriver                        0x00000001011b3160 chromedriver + 4075872\n9   chromedriver                        0x0000000101176e68 chromedriver + 3829352\n10  chromedriver                        0x00000001011b3c4c chromedriver + 4078668\n11  chromedriver                        0x000000010118bf08 chromedriver + 3915528\n12  chromedriver                        0x00000001011d0140 chromedriver + 4194624\n13  chromedriver                        0x00000001011d02c4 chromedriver + 4195012\n14  chromedriver                        0x00000001011e04d0 chromedriver + 4261072\n15  libsystem_pthread.dylib             0x0000000188803fa8 _pthread_start + 148\n16  libsystem_pthread.dylib             0x00000001887feda0 thread_start + 8\n"
     ]
    }
   ],
   "source": [
    "# Capture lichess digital boards\n",
    "for board_id in range(len(lichess_games)): \n",
    "    fen = lichess_games[board_id]\n",
    "    metadata_df = capture_2d_chessboard(fen, board_id, metadata_df)"
   ]
  },
  {
   "cell_type": "code",
   "execution_count": 139,
   "id": "451ac0d3-ae6f-4218-ad84-13d9280ddf66",
   "metadata": {
    "tags": []
   },
   "outputs": [],
   "source": [
    "# Checkpoint metadata\n",
    "# metadata_df.to_csv('../ChessStreamComputerVision/digital_board_metadata.csv', index=False)"
   ]
  },
  {
   "cell_type": "markdown",
   "id": "1d8255fb-17c0-4bc7-9b52-2bbdb6372485",
   "metadata": {},
   "source": [
    "### 3d board"
   ]
  },
  {
   "cell_type": "code",
   "execution_count": null,
   "id": "f82aceff-31a6-42e4-9470-4067a4033611",
   "metadata": {},
   "outputs": [],
   "source": [
    "def capture_3d_chessboard(url, output_file):\n",
    "    driver = webdriver.Chrome()\n",
    "    driver.get(url)\n",
    "\n",
    "    # Use explicit waits to ensure the chessboard is loaded before accessing it\n",
    "    wait = WebDriverWait(driver, 10)\n",
    "    \n",
    "    # Click on preferences\n",
    "    preferences_button = wait.until(EC.element_to_be_clickable((By.XPATH, '//*[@id=\"top\"]/div[2]/div[3]/button')))\n",
    "    preferences_button.click()\n",
    "    \n",
    "    # Click on board geometry \n",
    "    geometry_button = wait.until(EC.element_to_be_clickable((By.XPATH, '//*[@id=\"dasher_app\"]/div/div/button[4]')))\n",
    "    geometry_button.click()\n",
    "    \n",
    "    # Change to 3D \n",
    "    geo_3d_button = wait.until(EC.element_to_be_clickable((By.XPATH, '//*[@id=\"dasher_app\"]/div/div[1]/button[2]')))\n",
    "    geo_3d_button.click()\n",
    "    wait = WebDriverWait(driver, 30)\n",
    "    \n",
    "     # Wait for an element from the current page to become stale\n",
    "    current_page_element = driver.find_element(By.XPATH, '//*[@id=\"top\"]/div[2]/div[3]/button')\n",
    "    wait.until(EC.staleness_of(current_page_element))\n",
    "    \n",
    "    # Take a screenshot of just the chessboard\n",
    "    chessboard = wait.until(EC.presence_of_element_located((By.XPATH, '//cg-board')))\n",
    "    chessboard.screenshot(output_file)\n",
    "    \n",
    "    # Close the driver\n",
    "    driver.quit()"
   ]
  }
 ],
 "metadata": {
  "kernelspec": {
   "display_name": "Chess Project",
   "language": "python",
   "name": "chess_project"
  },
  "language_info": {
   "codemirror_mode": {
    "name": "ipython",
    "version": 3
   },
   "file_extension": ".py",
   "mimetype": "text/x-python",
   "name": "python",
   "nbconvert_exporter": "python",
   "pygments_lexer": "ipython3",
   "version": "3.11.5"
  }
 },
 "nbformat": 4,
 "nbformat_minor": 5
}
