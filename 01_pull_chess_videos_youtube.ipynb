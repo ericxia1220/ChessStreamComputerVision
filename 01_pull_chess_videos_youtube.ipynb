{
 "cells": [
  {
   "cell_type": "code",
   "execution_count": 2,
   "id": "ba7c14a9-c305-4e17-9984-d8635593d14f",
   "metadata": {
    "tags": []
   },
   "outputs": [],
   "source": [
    "# Imports\n",
    "from pytube import YouTube\n",
    "import os "
   ]
  },
  {
   "cell_type": "code",
   "execution_count": 11,
   "id": "7560660f-4c8e-47b2-8b85-900a2ca486f6",
   "metadata": {
    "tags": []
   },
   "outputs": [
    {
     "name": "stdout",
     "output_type": "stream",
     "text": [
      "Successfully downloaded Magnus Carlsen vs Alireza Firouzja | Full Game | Watch until the end | World Rapid 2021\n",
      "Successfully downloaded When arch rivals meet- Magnus Carlsen vs Hikaru Nakamura\n",
      "Successfully downloaded The very first game between Vishy Anand and Praggnanandhaa | Commentary by Sagar Shah\n"
     ]
    }
   ],
   "source": [
    "# Define the path to the text file containing the links\n",
    "path_to_file = \"chess_video_links.txt\"\n",
    "\n",
    "# Define the path to the folder where you want to save the videos\n",
    "path_to_folder = \"chess_videos/\"\n",
    "\n",
    "# Read the links from the text file\n",
    "with open(path_to_file, \"r\") as f:\n",
    "    links = f.readlines()\n",
    "\n",
    "# Loop through the links and download the videos\n",
    "for i, link in enumerate(links, start=1):\n",
    "    try:\n",
    "        # Create a YouTube object for the video\n",
    "        yt = YouTube(link)\n",
    "\n",
    "        # Get the highest resolution video stream\n",
    "        stream = yt.streams.get_highest_resolution()\n",
    "        default_filename = stream.default_filename\n",
    "\n",
    "        # Download the video to the specified folder\n",
    "        stream.download(output_path=path_to_folder)\n",
    "        \n",
    "        # Rename the file after downloading\n",
    "        os.rename(os.path.join(path_to_folder, default_filename),\n",
    "                  os.path.join(path_to_folder, f\"chess_video_{i}.mp4\"))\n",
    "\n",
    "        print(f\"Successfully downloaded {yt.title}\")\n",
    "    except:\n",
    "        print(f\"Failed to download {link}\")"
   ]
  },
  {
   "cell_type": "code",
   "execution_count": null,
   "id": "47bfbd6e-3e19-402e-aba4-f9db874519b9",
   "metadata": {},
   "outputs": [],
   "source": []
  }
 ],
 "metadata": {
  "kernelspec": {
   "display_name": "Chess Project",
   "language": "python",
   "name": "chess_project"
  },
  "language_info": {
   "codemirror_mode": {
    "name": "ipython",
    "version": 3
   },
   "file_extension": ".py",
   "mimetype": "text/x-python",
   "name": "python",
   "nbconvert_exporter": "python",
   "pygments_lexer": "ipython3",
   "version": "3.11.5"
  }
 },
 "nbformat": 4,
 "nbformat_minor": 5
}
